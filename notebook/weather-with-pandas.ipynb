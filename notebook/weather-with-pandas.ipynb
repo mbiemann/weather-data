{
 "cells": [
  {
   "cell_type": "code",
   "execution_count": 1,
   "id": "90348c07-f2c8-4088-81b9-4fa5cec8751b",
   "metadata": {},
   "outputs": [],
   "source": [
    "import pandas as pd"
   ]
  },
  {
   "cell_type": "markdown",
   "id": "9514140e-f159-48ad-aef6-c3c7f1472561",
   "metadata": {},
   "source": [
    "# Load Data and Convert to Parquet"
   ]
  },
  {
   "cell_type": "code",
   "execution_count": 2,
   "id": "24698ab9-cc2c-4a42-96bd-44817db886fe",
   "metadata": {},
   "outputs": [
    {
     "name": "stdout",
     "output_type": "stream",
     "text": [
      "<class 'pandas.core.frame.DataFrame'>\n",
      "RangeIndex: 93255 entries, 0 to 93254\n",
      "Data columns (total 15 columns):\n",
      " #   Column                  Non-Null Count  Dtype  \n",
      "---  ------                  --------------  -----  \n",
      " 0   ForecastSiteCode        93255 non-null  int64  \n",
      " 1   ObservationTime         93255 non-null  int64  \n",
      " 2   ObservationDate         93255 non-null  object \n",
      " 3   WindDirection           93255 non-null  int64  \n",
      " 4   WindSpeed               93255 non-null  int64  \n",
      " 5   WindGust                27093 non-null  float64\n",
      " 6   Visibility              80542 non-null  float64\n",
      " 7   ScreenTemperature       93255 non-null  float64\n",
      " 8   Pressure                86556 non-null  float64\n",
      " 9   SignificantWeatherCode  93255 non-null  int64  \n",
      " 10  SiteName                93255 non-null  object \n",
      " 11  Latitude                93255 non-null  float64\n",
      " 12  Longitude               93255 non-null  float64\n",
      " 13  Region                  93255 non-null  object \n",
      " 14  Country                 80154 non-null  object \n",
      "dtypes: float64(6), int64(5), object(4)\n",
      "memory usage: 10.7+ MB\n"
     ]
    }
   ],
   "source": [
    "# Load csv 1\n",
    "df1 = pd.read_csv('../test-data/weather.20160201.csv')\n",
    "df1.info()"
   ]
  },
  {
   "cell_type": "code",
   "execution_count": 3,
   "id": "946e57c8-0e0b-44a3-bda1-886cc329619c",
   "metadata": {},
   "outputs": [
    {
     "name": "stdout",
     "output_type": "stream",
     "text": [
      "<class 'pandas.core.frame.DataFrame'>\n",
      "RangeIndex: 101442 entries, 0 to 101441\n",
      "Data columns (total 15 columns):\n",
      " #   Column                  Non-Null Count   Dtype  \n",
      "---  ------                  --------------   -----  \n",
      " 0   ForecastSiteCode        101442 non-null  int64  \n",
      " 1   ObservationTime         101442 non-null  int64  \n",
      " 2   ObservationDate         101442 non-null  object \n",
      " 3   WindDirection           101442 non-null  int64  \n",
      " 4   WindSpeed               101442 non-null  int64  \n",
      " 5   WindGust                16193 non-null   float64\n",
      " 6   Visibility              87662 non-null   float64\n",
      " 7   ScreenTemperature       101442 non-null  float64\n",
      " 8   Pressure                93321 non-null   float64\n",
      " 9   SignificantWeatherCode  101442 non-null  int64  \n",
      " 10  SiteName                101442 non-null  object \n",
      " 11  Latitude                101442 non-null  float64\n",
      " 12  Longitude               101442 non-null  float64\n",
      " 13  Region                  101442 non-null  object \n",
      " 14  Country                 86783 non-null   object \n",
      "dtypes: float64(6), int64(5), object(4)\n",
      "memory usage: 11.6+ MB\n"
     ]
    }
   ],
   "source": [
    "# Load csv 2\n",
    "df2 = pd.read_csv('../test-data/weather.20160301.csv')\n",
    "df2.info()"
   ]
  },
  {
   "cell_type": "code",
   "execution_count": 4,
   "id": "98b81c14-3c65-47bc-8cc2-380e87b93a36",
   "metadata": {},
   "outputs": [
    {
     "name": "stdout",
     "output_type": "stream",
     "text": [
      "<class 'pandas.core.frame.DataFrame'>\n",
      "Int64Index: 194697 entries, 0 to 101441\n",
      "Data columns (total 15 columns):\n",
      " #   Column                  Non-Null Count   Dtype  \n",
      "---  ------                  --------------   -----  \n",
      " 0   ForecastSiteCode        194697 non-null  int64  \n",
      " 1   ObservationTime         194697 non-null  int64  \n",
      " 2   ObservationDate         194697 non-null  object \n",
      " 3   WindDirection           194697 non-null  int64  \n",
      " 4   WindSpeed               194697 non-null  int64  \n",
      " 5   WindGust                43286 non-null   float64\n",
      " 6   Visibility              168204 non-null  float64\n",
      " 7   ScreenTemperature       194697 non-null  float64\n",
      " 8   Pressure                179877 non-null  float64\n",
      " 9   SignificantWeatherCode  194697 non-null  int64  \n",
      " 10  SiteName                194697 non-null  object \n",
      " 11  Latitude                194697 non-null  float64\n",
      " 12  Longitude               194697 non-null  float64\n",
      " 13  Region                  194697 non-null  object \n",
      " 14  Country                 166937 non-null  object \n",
      "dtypes: float64(6), int64(5), object(4)\n",
      "memory usage: 23.8+ MB\n"
     ]
    }
   ],
   "source": [
    "# Union both\n",
    "df = df1.append(df2)\n",
    "df.info()"
   ]
  },
  {
   "cell_type": "code",
   "execution_count": 6,
   "id": "fe94bd91-655c-4519-9c73-d6332c3aab14",
   "metadata": {},
   "outputs": [],
   "source": [
    "# Save to Parquet\n",
    "df.to_parquet('../result/weather.parquet')"
   ]
  },
  {
   "cell_type": "code",
   "execution_count": 7,
   "id": "4a713bb4-51dc-4931-be69-328c9d9d42fe",
   "metadata": {},
   "outputs": [
    {
     "name": "stdout",
     "output_type": "stream",
     "text": [
      "<class 'pandas.core.frame.DataFrame'>\n",
      "Int64Index: 194697 entries, 0 to 101441\n",
      "Data columns (total 15 columns):\n",
      " #   Column                  Non-Null Count   Dtype  \n",
      "---  ------                  --------------   -----  \n",
      " 0   ForecastSiteCode        194697 non-null  int64  \n",
      " 1   ObservationTime         194697 non-null  int64  \n",
      " 2   ObservationDate         194697 non-null  object \n",
      " 3   WindDirection           194697 non-null  int64  \n",
      " 4   WindSpeed               194697 non-null  int64  \n",
      " 5   WindGust                43286 non-null   float64\n",
      " 6   Visibility              168204 non-null  float64\n",
      " 7   ScreenTemperature       194697 non-null  float64\n",
      " 8   Pressure                179877 non-null  float64\n",
      " 9   SignificantWeatherCode  194697 non-null  int64  \n",
      " 10  SiteName                194697 non-null  object \n",
      " 11  Latitude                194697 non-null  float64\n",
      " 12  Longitude               194697 non-null  float64\n",
      " 13  Region                  194697 non-null  object \n",
      " 14  Country                 166937 non-null  object \n",
      "dtypes: float64(6), int64(5), object(4)\n",
      "memory usage: 23.8+ MB\n"
     ]
    }
   ],
   "source": [
    "# Read from Parquet (just for example)\n",
    "df = pd.read_parquet('../result/weather.parquet')\n",
    "df.info()"
   ]
  },
  {
   "cell_type": "markdown",
   "id": "97df07c3-1288-47f4-98e7-5f78a52ffbe0",
   "metadata": {},
   "source": [
    "# Hottest Day"
   ]
  },
  {
   "cell_type": "code",
   "execution_count": 8,
   "id": "933d05cf-6e27-4572-a6a4-2410ef6ee90a",
   "metadata": {},
   "outputs": [
    {
     "name": "stdout",
     "output_type": "stream",
     "text": [
      "Max Temperature: 15.8\n"
     ]
    }
   ],
   "source": [
    "# Get Highest Temperature\n",
    "max_temperature = df['ScreenTemperature'].max()\n",
    "print(f'Max Temperature: {max_temperature}')"
   ]
  },
  {
   "cell_type": "code",
   "execution_count": 9,
   "id": "9defba91-f418-4cd3-baf4-5a3be0fe2a82",
   "metadata": {},
   "outputs": [],
   "source": [
    "# Get record with highest temperature\n",
    "df_hottest = df[ df['ScreenTemperature'] == max_temperature ]"
   ]
  },
  {
   "cell_type": "code",
   "execution_count": 10,
   "id": "9d326ff4-e755-4539-a912-5efcbaba6c52",
   "metadata": {},
   "outputs": [
    {
     "name": "stdout",
     "output_type": "stream",
     "text": [
      "Hottest Day: 2016-03-17\n"
     ]
    }
   ],
   "source": [
    "# Hottest Day\n",
    "hottest_date = df_hottest['ObservationDate'].to_numpy()[0][:10]\n",
    "print(f'Hottest Day: {hottest_date}')"
   ]
  },
  {
   "cell_type": "code",
   "execution_count": 11,
   "id": "689a2c89-407b-4351-8374-5c5f9d4d9641",
   "metadata": {},
   "outputs": [
    {
     "name": "stdout",
     "output_type": "stream",
     "text": [
      "Region: Highland & Eilean Siar\n",
      "Country: SCOTLAND\n"
     ]
    }
   ],
   "source": [
    "# Region & Country\n",
    "region = df_hottest['Region'].to_numpy()[0]\n",
    "country = df_hottest['Country'].to_numpy()[0]\n",
    "print(f'Region: {region}')\n",
    "print(f'Country: {country}')"
   ]
  },
  {
   "cell_type": "markdown",
   "id": "38aa1fd2",
   "metadata": {},
   "source": [
    "### Questions"
   ]
  },
  {
   "cell_type": "code",
   "execution_count": 12,
   "id": "02e73b4a",
   "metadata": {},
   "outputs": [
    {
     "name": "stdout",
     "output_type": "stream",
     "text": [
      "Q: Which date was the hottest day?\n",
      "R: 2016-03-17\n",
      "\n",
      "Q: What was the temperature on that day?\n",
      "R: 15.8\n",
      "\n",
      "Q: In which region was the hottest day?\n",
      "R: Highland & Eilean Siar\n"
     ]
    }
   ],
   "source": [
    "print('Q: Which date was the hottest day?')\n",
    "print(f'R: {hottest_date}')\n",
    "print()\n",
    "print('Q: What was the temperature on that day?')\n",
    "print(f'R: {max_temperature}')\n",
    "print()\n",
    "print('Q: In which region was the hottest day?')\n",
    "print(f'R: {region}')"
   ]
  }
 ],
 "metadata": {
  "kernelspec": {
   "display_name": "Python 3 (ipykernel)",
   "language": "python",
   "name": "python3"
  },
  "language_info": {
   "codemirror_mode": {
    "name": "ipython",
    "version": 3
   },
   "file_extension": ".py",
   "mimetype": "text/x-python",
   "name": "python",
   "nbconvert_exporter": "python",
   "pygments_lexer": "ipython3",
   "version": "3.9.6"
  }
 },
 "nbformat": 4,
 "nbformat_minor": 5
}
