{
 "cells": [
  {
   "cell_type": "code",
   "execution_count": 1,
   "id": "90348c07-f2c8-4088-81b9-4fa5cec8751b",
   "metadata": {},
   "outputs": [],
   "source": [
    "import pandas as pd"
   ]
  },
  {
   "cell_type": "markdown",
   "id": "9514140e-f159-48ad-aef6-c3c7f1472561",
   "metadata": {},
   "source": [
    "# Load Data and Convert to Parquet"
   ]
  },
  {
   "cell_type": "code",
   "execution_count": 10,
   "id": "24698ab9-cc2c-4a42-96bd-44817db886fe",
   "metadata": {},
   "outputs": [
    {
     "data": {
      "text/plain": [
       "1398825"
      ]
     },
     "execution_count": 10,
     "metadata": {},
     "output_type": "execute_result"
    }
   ],
   "source": [
    "df1 = pd.read_csv('../data/weather.20160201.csv')\n",
    "df1.size"
   ]
  },
  {
   "cell_type": "code",
   "execution_count": 11,
   "id": "946e57c8-0e0b-44a3-bda1-886cc329619c",
   "metadata": {},
   "outputs": [
    {
     "data": {
      "text/plain": [
       "1521630"
      ]
     },
     "execution_count": 11,
     "metadata": {},
     "output_type": "execute_result"
    }
   ],
   "source": [
    "df2 = pd.read_csv('../data/weather.20160301.csv')\n",
    "df2.size"
   ]
  },
  {
   "cell_type": "code",
   "execution_count": 12,
   "id": "98b81c14-3c65-47bc-8cc2-380e87b93a36",
   "metadata": {},
   "outputs": [
    {
     "data": {
      "text/plain": [
       "2920455"
      ]
     },
     "execution_count": 12,
     "metadata": {},
     "output_type": "execute_result"
    }
   ],
   "source": [
    "df = df1.append(df2)\n",
    "df.size"
   ]
  },
  {
   "cell_type": "code",
   "execution_count": 13,
   "id": "fe94bd91-655c-4519-9c73-d6332c3aab14",
   "metadata": {},
   "outputs": [],
   "source": [
    "df.to_parquet('../data/weather.parquet')"
   ]
  },
  {
   "cell_type": "code",
   "execution_count": 15,
   "id": "4a713bb4-51dc-4931-be69-328c9d9d42fe",
   "metadata": {},
   "outputs": [
    {
     "data": {
      "text/plain": [
       "2920455"
      ]
     },
     "execution_count": 15,
     "metadata": {},
     "output_type": "execute_result"
    }
   ],
   "source": [
    "df = pd.read_parquet('../data/weather.parquet')\n",
    "df.size"
   ]
  },
  {
   "cell_type": "markdown",
   "id": "97df07c3-1288-47f4-98e7-5f78a52ffbe0",
   "metadata": {},
   "source": [
    "# Hottest Day"
   ]
  },
  {
   "cell_type": "code",
   "execution_count": 54,
   "id": "933d05cf-6e27-4572-a6a4-2410ef6ee90a",
   "metadata": {},
   "outputs": [
    {
     "name": "stdout",
     "output_type": "stream",
     "text": [
      "Max Temperature: 15.8\n"
     ]
    }
   ],
   "source": [
    "# Highest Temperature\n",
    "max_temperature = df['ScreenTemperature'].max()\n",
    "print(f'Max Temperature: {max_temperature}')"
   ]
  },
  {
   "cell_type": "code",
   "execution_count": 55,
   "id": "9defba91-f418-4cd3-baf4-5a3be0fe2a82",
   "metadata": {},
   "outputs": [],
   "source": [
    "df_hottest = df[ df['ScreenTemperature'] == max_temperature ]"
   ]
  },
  {
   "cell_type": "code",
   "execution_count": 56,
   "id": "9d326ff4-e755-4539-a912-5efcbaba6c52",
   "metadata": {},
   "outputs": [
    {
     "name": "stdout",
     "output_type": "stream",
     "text": [
      "Hottest Day: 2016-03-17T00:00:00\n"
     ]
    }
   ],
   "source": [
    "# Hottest Day\n",
    "hottest_date = df_hottest['ObservationDate'].to_numpy()[0]\n",
    "print(f'Hottest Day: {hottest_date}')"
   ]
  },
  {
   "cell_type": "code",
   "execution_count": 57,
   "id": "689a2c89-407b-4351-8374-5c5f9d4d9641",
   "metadata": {},
   "outputs": [
    {
     "name": "stdout",
     "output_type": "stream",
     "text": [
      "Region: Highland & Eilean Siar, Country: SCOTLAND\n"
     ]
    }
   ],
   "source": [
    "# Region & Country\n",
    "region = df_hottest['Region'].to_numpy()[0]\n",
    "country = df_hottest['Country'].to_numpy()[0]\n",
    "print(f'Region: {region}, Country: {country}')"
   ]
  },
  {
   "cell_type": "code",
   "execution_count": null,
   "id": "688ccf1a-5e7e-4148-9c1b-6d6db3daa699",
   "metadata": {},
   "outputs": [],
   "source": []
  }
 ],
 "metadata": {
  "kernelspec": {
   "display_name": "Python 3 (ipykernel)",
   "language": "python",
   "name": "python3"
  },
  "language_info": {
   "codemirror_mode": {
    "name": "ipython",
    "version": 3
   },
   "file_extension": ".py",
   "mimetype": "text/x-python",
   "name": "python",
   "nbconvert_exporter": "python",
   "pygments_lexer": "ipython3",
   "version": "3.9.6"
  }
 },
 "nbformat": 4,
 "nbformat_minor": 5
}
